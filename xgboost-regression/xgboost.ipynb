{
  "nbformat": 4,
  "nbformat_minor": 0,
  "metadata": {
    "colab": {
      "name": "xgboost.ipynb",
      "provenance": []
    },
    "kernelspec": {
      "name": "python3",
      "display_name": "Python 3"
    },
    "language_info": {
      "name": "python"
    }
  },
  "cells": [
    {
      "cell_type": "code",
      "execution_count": 15,
      "metadata": {
        "id": "hfAu8YPa4nij"
      },
      "outputs": [],
      "source": [
        "import numpy as np\n",
        "import pandas as pd\n",
        "import matplotlib.pyplot as plt\n",
        "import seaborn as sns\n",
        "from sklearn.preprocessing import LabelEncoder\n",
        "from sklearn.model_selection import train_test_split\n",
        "from xgboost import XGBRegressor\n",
        "from sklearn import metrics"
      ]
    },
    {
      "cell_type": "code",
      "source": [
        "input_sales_data = pd.read_csv('/content/simple - Sheet1.csv')\n",
        "\n",
        "input_sales_data.info()\n",
        "\n",
        "input_sales_data.isnull().sum()"
      ],
      "metadata": {
        "colab": {
          "base_uri": "https://localhost:8080/"
        },
        "id": "ErGw1IA44_y-",
        "outputId": "965731fa-7464-4cc5-f3fd-5ca9d8795bc0"
      },
      "execution_count": 16,
      "outputs": [
        {
          "output_type": "stream",
          "name": "stdout",
          "text": [
            "<class 'pandas.core.frame.DataFrame'>\n",
            "RangeIndex: 12 entries, 0 to 11\n",
            "Data columns (total 2 columns):\n",
            " #   Column       Non-Null Count  Dtype \n",
            "---  ------       --------------  ----- \n",
            " 0   BillingDate  12 non-null     object\n",
            " 1   NetValue     12 non-null     int64 \n",
            "dtypes: int64(1), object(1)\n",
            "memory usage: 320.0+ bytes\n"
          ]
        },
        {
          "output_type": "execute_result",
          "data": {
            "text/plain": [
              "BillingDate    0\n",
              "NetValue       0\n",
              "dtype: int64"
            ]
          },
          "metadata": {},
          "execution_count": 16
        }
      ]
    },
    {
      "cell_type": "code",
      "source": [
        "encoder = LabelEncoder()\n",
        "input_sales_data['BillingDate'] = encoder.fit_transform(input_sales_data['BillingDate'])\n",
        "# input_sales_data['Region'] = encoder.fit_transform(input_sales_data['Region'])\n",
        "# input_sales_data['Customer Number'] = encoder.fit_transform(input_sales_data['Customer Number'])\n",
        "# input_sales_data['Material Number'] = encoder.fit_transform(input_sales_data['Material Number'])\n",
        "# input_sales_data['Organization ID'] = encoder.fit_transform(input_sales_data['Organization ID'])"
      ],
      "metadata": {
        "id": "vt5K8TnL5U7m"
      },
      "execution_count": 18,
      "outputs": []
    },
    {
      "cell_type": "code",
      "source": [
        "X = input_sales_data.drop(columns='NetValue', axis=1)\n",
        "Y = input_sales_data['NetValue']"
      ],
      "metadata": {
        "id": "SGOgpDH354nH"
      },
      "execution_count": 19,
      "outputs": []
    },
    {
      "cell_type": "code",
      "source": [
        "X_train, X_test, Y_train, Y_test = train_test_split(X, Y, test_size=0.2, random_state=2)\n",
        "regressor = XGBRegressor()\n",
        "regressor.fit(X_train, Y_train)\n",
        "training_data_prediction = regressor.predict(X_train)\n",
        "print(training_data_prediction)\n",
        "r2_train = metrics.r2_score(Y_train, training_data_prediction)\n",
        "print('R Squared value = ', r2_train)\n",
        "test_data_prediction = regressor.predict(X_test)\n",
        "r2_test = metrics.r2_score(Y_test, test_data_prediction)\n",
        "print('R Squared value = ', r2_test)"
      ],
      "metadata": {
        "colab": {
          "base_uri": "https://localhost:8080/"
        },
        "id": "q1r_nwSy5_sN",
        "outputId": "294e23e7-3b54-4c28-f799-523b6ac2767a"
      },
      "execution_count": 20,
      "outputs": [
        {
          "output_type": "stream",
          "name": "stdout",
          "text": [
            "[13:32:14] WARNING: /workspace/src/objective/regression_obj.cu:152: reg:linear is now deprecated in favor of reg:squarederror.\n",
            "[ 7998.6157  1999.6722 10985.096    999.9193  3999.5447  2999.6394\n",
            "  6999.1826 11941.742   8994.33  ]\n",
            "R Squared value =  0.99997147426235\n",
            "R Squared value =  0.7878792643818131\n"
          ]
        }
      ]
    }
  ]
}