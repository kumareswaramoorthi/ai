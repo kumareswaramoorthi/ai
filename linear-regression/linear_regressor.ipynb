{
  "nbformat": 4,
  "nbformat_minor": 0,
  "metadata": {
    "colab": {
      "name": "linear-regressor.ipynb",
      "provenance": []
    },
    "kernelspec": {
      "name": "python3",
      "display_name": "Python 3"
    },
    "language_info": {
      "name": "python"
    }
  },
  "cells": [
    {
      "cell_type": "code",
      "execution_count": 26,
      "metadata": {
        "id": "hfAu8YPa4nij"
      },
      "outputs": [],
      "source": [
        "import numpy as np\n",
        "import pandas as pd\n",
        "import matplotlib.pyplot as plt\n",
        "import seaborn as sns\n",
        "from sklearn.preprocessing import LabelEncoder\n",
        "from sklearn.model_selection import train_test_split\n",
        "from sklearn import datasets, linear_model\n",
        "from sklearn import metrics"
      ]
    },
    {
      "cell_type": "code",
      "source": [
        "input_sales_data = pd.read_csv('/content/Sales Data - Jan 2021 - Org ID 1-cleaned.xlsx - Sheet1.csv')\n",
        "\n",
        "input_sales_data.info()\n",
        "\n",
        "input_sales_data.isnull().sum()"
      ],
      "metadata": {
        "colab": {
          "base_uri": "https://localhost:8080/"
        },
        "id": "ErGw1IA44_y-",
        "outputId": "6bdc4dfb-fe2c-4136-e5ae-b9ad98b8a770"
      },
      "execution_count": 27,
      "outputs": [
        {
          "output_type": "stream",
          "name": "stdout",
          "text": [
            "<class 'pandas.core.frame.DataFrame'>\n",
            "RangeIndex: 5000 entries, 0 to 4999\n",
            "Data columns (total 6 columns):\n",
            " #   Column           Non-Null Count  Dtype  \n",
            "---  ------           --------------  -----  \n",
            " 0   Organization ID  5000 non-null   int64  \n",
            " 1   Billing Date     5000 non-null   object \n",
            " 2   Customer Number  5000 non-null   int64  \n",
            " 3   Material Number  5000 non-null   int64  \n",
            " 4   Region           5000 non-null   object \n",
            " 5   Net Value        5000 non-null   float64\n",
            "dtypes: float64(1), int64(3), object(2)\n",
            "memory usage: 234.5+ KB\n"
          ]
        },
        {
          "output_type": "execute_result",
          "data": {
            "text/plain": [
              "Organization ID    0\n",
              "Billing Date       0\n",
              "Customer Number    0\n",
              "Material Number    0\n",
              "Region             0\n",
              "Net Value          0\n",
              "dtype: int64"
            ]
          },
          "metadata": {},
          "execution_count": 27
        }
      ]
    },
    {
      "cell_type": "code",
      "source": [
        "encoder = LabelEncoder()\n",
        "input_sales_data['Billing Date'] = encoder.fit_transform(input_sales_data['Billing Date'])\n",
        "input_sales_data['Region'] = encoder.fit_transform(input_sales_data['Region'])\n",
        "input_sales_data['Customer Number'] = encoder.fit_transform(input_sales_data['Customer Number'])\n",
        "input_sales_data['Material Number'] = encoder.fit_transform(input_sales_data['Material Number'])\n",
        "input_sales_data['Organization ID'] = encoder.fit_transform(input_sales_data['Organization ID'])"
      ],
      "metadata": {
        "id": "vt5K8TnL5U7m"
      },
      "execution_count": 28,
      "outputs": []
    },
    {
      "cell_type": "code",
      "source": [
        "X = input_sales_data.drop(columns='Net Value', axis=1)\n",
        "Y = input_sales_data['Net Value']"
      ],
      "metadata": {
        "id": "SGOgpDH354nH"
      },
      "execution_count": 29,
      "outputs": []
    },
    {
      "cell_type": "code",
      "source": [
        "X_train, X_test, Y_train, Y_test = train_test_split(X, Y, test_size=0.2, random_state=2)\n",
        "regressor = linear_model.LinearRegression()\n",
        "regressor.fit(X_train, Y_train)\n",
        "training_data_prediction = regressor.predict(X_train)\n",
        "print(training_data_prediction)\n",
        "r2_train = metrics.r2_score(Y_train, training_data_prediction)\n",
        "print('R Squared value = ', r2_train)\n",
        "test_data_prediction = regressor.predict(X_test)\n",
        "r2_test = metrics.r2_score(Y_test, test_data_prediction)\n",
        "print('R Squared value = ', r2_test)"
      ],
      "metadata": {
        "colab": {
          "base_uri": "https://localhost:8080/"
        },
        "id": "q1r_nwSy5_sN",
        "outputId": "3acdfec0-f0d0-47a2-c21a-7da1dfa373d7"
      },
      "execution_count": 30,
      "outputs": [
        {
          "output_type": "stream",
          "name": "stdout",
          "text": [
            "[1592.63333464 1771.65980748 2692.33925748 ... 1793.86825119 2778.87122963\n",
            " 1578.04174182]\n",
            "R Squared value =  0.01542975494275145\n",
            "R Squared value =  0.018146477327849464\n"
          ]
        }
      ]
    }
  ]
}